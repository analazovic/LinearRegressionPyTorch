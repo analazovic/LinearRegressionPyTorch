{
 "cells": [
  {
   "cell_type": "code",
   "execution_count": 1,
   "metadata": {},
   "outputs": [],
   "source": [
    "import torch\n",
    "import torch.nn as nn\n",
    "import numpy as np\n",
    "import pandas as pd\n",
    "import matplotlib.pyplot as plt\n",
    "import seaborn as sns\n",
    "from sklearn.model_selection import train_test_split\n",
    "from sklearn.linear_model import LinearRegression"
   ]
  },
  {
   "cell_type": "markdown",
   "metadata": {},
   "source": [
    "# Important functions"
   ]
  },
  {
   "cell_type": "code",
   "execution_count": 2,
   "metadata": {},
   "outputs": [],
   "source": [
    "# Creating class of Linear Regression using PyTorch\n",
    "class linear_regression_pytorch(nn.Module):\n",
    "    def __init__(self,in_dim):\n",
    "        super().__init__()\n",
    "        self.linear = nn.Linear(in_dim,1)\n",
    "    def forward(self,x):\n",
    "        return self.linear(x)\n",
    "\n",
    "# Calculate R2 error given predicted and target values\n",
    "def r_squared(y_pred,y_test):\n",
    "    SS_tot = ((y_test - y_test.mean())**2).sum()\n",
    "    SS_res = ((y_test - y_pred)**2).sum()\n",
    "    return (1- SS_res/SS_tot)\n",
    "\n",
    "# Calculate loss given predicted and target values\n",
    "def evaluate_loss(y_pred,y_test):\n",
    "    return (np.mean(((y_pred - y_test)**2)))**0.5\n",
    "\n",
    "# Print the parameters of the PyTorch Linear Regression model\n",
    "def print_parameters(model):\n",
    "    for name, param in model.named_parameters():\n",
    "        if name == 'linear.weight':\n",
    "            print ('Weights:' + ': ' + str(param.data.numpy().squeeze()), end = '; ')\n",
    "        if name == 'linear.bias':\n",
    "            print ('Bias:' + ': ' + str(param.data.numpy().squeeze()), end = '; ')\n",
    "    print()\n",
    "\n",
    "# Train PyTorch Linear Regression Model\n",
    "def train_model(x_train, y_train, no_epochs, learn_rate):\n",
    "    no_features = x_train.shape[1]\n",
    "    # Defining the model\n",
    "    model = linear_regression_pytorch(no_features)\n",
    "    criterion = nn.MSELoss()\n",
    "    optimizer = torch.optim.Adam(model.parameters(), lr = learn_rate)\n",
    "\n",
    "    # Training the model\n",
    "    loss_prev = 1000\n",
    "    loss_all=[]\n",
    "    for t in range(no_epochs):\n",
    "        y_pred = model(x_train)\n",
    "        loss = criterion(y_pred,y_train)\n",
    "        optimizer.zero_grad()\n",
    "        loss.backward()\n",
    "        optimizer.step()\n",
    "        \n",
    "        if np.abs(loss_prev-loss.item())<1e-13:\n",
    "            break\n",
    "            \n",
    "        loss_prev=loss.item()    \n",
    "        loss_all.append(loss.item())\n",
    "        \n",
    "        if t%5000==0 and t>0: # every 5000 iterations, displays the current iteration\n",
    "            print(str(t) + ' epoch: ' + str(loss.item()**0.5) + '; ', end='')\n",
    "            \n",
    "    print('\\nLoss on training set: ' + str(np.sqrt(loss.item())))\n",
    "    \n",
    "    plt.plot(loss_all)\n",
    "    plt.xlabel('Epoch')\n",
    "    plt.ylabel('Loss')\n",
    "    plt.show()\n",
    "    return model, loss.item()\n",
    "\n",
    "# Plot the Linear Regression curve in the case of a single feature\n",
    "def plot_regression(mu, std, start, stop, model, x, y):\n",
    "    # Plotting the regression curve\n",
    "    pom1 = (start - mu)/std\n",
    "    pom2 = (stop  - mu)/std\n",
    "    y_pred1 = model(torch.tensor(np.array([[pom1]]),dtype = torch.float32))\n",
    "    y_pred2 = model(torch.tensor(np.array([[pom2]]),dtype = torch.float32))\n",
    "    plt.scatter(x*std+mu, y)\n",
    "    plt.plot([start,stop],[y_pred1.data.numpy()[0],y_pred2.data.numpy()[0]])\n",
    "    plt.xlabel('Square feet of living area')\n",
    "    plt.ylabel('Price')\n",
    "    plt.show()\n",
    "    \n",
    "# Normalize data\n",
    "def normalize_data(input_data):\n",
    "    mu = input_data.mean(axis=0)\n",
    "    std = input_data.std(axis=0)\n",
    "    return (input_data-mu)/std, mu, std"
   ]
  },
  {
   "cell_type": "code",
   "execution_count": 3,
   "metadata": {},
   "outputs": [
    {
     "name": "stdout",
     "output_type": "stream",
     "text": [
      "Index(['id', 'date', 'price', 'bedrooms', 'bathrooms', 'sqft_living',\n",
      "       'sqft_lot', 'floors', 'waterfront', 'view', 'condition', 'grade',\n",
      "       'sqft_above', 'sqft_basement', 'yr_built', 'yr_renovated', 'zipcode',\n",
      "       'lat', 'long', 'sqft_living15', 'sqft_lot15'],\n",
      "      dtype='object')\n"
     ]
    },
    {
     "data": {
      "text/html": [
       "<div>\n",
       "<style scoped>\n",
       "    .dataframe tbody tr th:only-of-type {\n",
       "        vertical-align: middle;\n",
       "    }\n",
       "\n",
       "    .dataframe tbody tr th {\n",
       "        vertical-align: top;\n",
       "    }\n",
       "\n",
       "    .dataframe thead th {\n",
       "        text-align: right;\n",
       "    }\n",
       "</style>\n",
       "<table border=\"1\" class=\"dataframe\">\n",
       "  <thead>\n",
       "    <tr style=\"text-align: right;\">\n",
       "      <th></th>\n",
       "      <th>id</th>\n",
       "      <th>date</th>\n",
       "      <th>price</th>\n",
       "      <th>bedrooms</th>\n",
       "      <th>bathrooms</th>\n",
       "      <th>sqft_living</th>\n",
       "      <th>sqft_lot</th>\n",
       "      <th>floors</th>\n",
       "      <th>waterfront</th>\n",
       "      <th>view</th>\n",
       "      <th>...</th>\n",
       "      <th>grade</th>\n",
       "      <th>sqft_above</th>\n",
       "      <th>sqft_basement</th>\n",
       "      <th>yr_built</th>\n",
       "      <th>yr_renovated</th>\n",
       "      <th>zipcode</th>\n",
       "      <th>lat</th>\n",
       "      <th>long</th>\n",
       "      <th>sqft_living15</th>\n",
       "      <th>sqft_lot15</th>\n",
       "    </tr>\n",
       "  </thead>\n",
       "  <tbody>\n",
       "    <tr>\n",
       "      <th>0</th>\n",
       "      <td>7129300520</td>\n",
       "      <td>20141013T000000</td>\n",
       "      <td>221900.0</td>\n",
       "      <td>3</td>\n",
       "      <td>1.00</td>\n",
       "      <td>1180</td>\n",
       "      <td>5650</td>\n",
       "      <td>1.0</td>\n",
       "      <td>0</td>\n",
       "      <td>0</td>\n",
       "      <td>...</td>\n",
       "      <td>7</td>\n",
       "      <td>1180</td>\n",
       "      <td>0</td>\n",
       "      <td>1955</td>\n",
       "      <td>0</td>\n",
       "      <td>98178</td>\n",
       "      <td>47.5112</td>\n",
       "      <td>-122.257</td>\n",
       "      <td>1340</td>\n",
       "      <td>5650</td>\n",
       "    </tr>\n",
       "    <tr>\n",
       "      <th>1</th>\n",
       "      <td>6414100192</td>\n",
       "      <td>20141209T000000</td>\n",
       "      <td>538000.0</td>\n",
       "      <td>3</td>\n",
       "      <td>2.25</td>\n",
       "      <td>2570</td>\n",
       "      <td>7242</td>\n",
       "      <td>2.0</td>\n",
       "      <td>0</td>\n",
       "      <td>0</td>\n",
       "      <td>...</td>\n",
       "      <td>7</td>\n",
       "      <td>2170</td>\n",
       "      <td>400</td>\n",
       "      <td>1951</td>\n",
       "      <td>1991</td>\n",
       "      <td>98125</td>\n",
       "      <td>47.7210</td>\n",
       "      <td>-122.319</td>\n",
       "      <td>1690</td>\n",
       "      <td>7639</td>\n",
       "    </tr>\n",
       "    <tr>\n",
       "      <th>2</th>\n",
       "      <td>5631500400</td>\n",
       "      <td>20150225T000000</td>\n",
       "      <td>180000.0</td>\n",
       "      <td>2</td>\n",
       "      <td>1.00</td>\n",
       "      <td>770</td>\n",
       "      <td>10000</td>\n",
       "      <td>1.0</td>\n",
       "      <td>0</td>\n",
       "      <td>0</td>\n",
       "      <td>...</td>\n",
       "      <td>6</td>\n",
       "      <td>770</td>\n",
       "      <td>0</td>\n",
       "      <td>1933</td>\n",
       "      <td>0</td>\n",
       "      <td>98028</td>\n",
       "      <td>47.7379</td>\n",
       "      <td>-122.233</td>\n",
       "      <td>2720</td>\n",
       "      <td>8062</td>\n",
       "    </tr>\n",
       "    <tr>\n",
       "      <th>3</th>\n",
       "      <td>2487200875</td>\n",
       "      <td>20141209T000000</td>\n",
       "      <td>604000.0</td>\n",
       "      <td>4</td>\n",
       "      <td>3.00</td>\n",
       "      <td>1960</td>\n",
       "      <td>5000</td>\n",
       "      <td>1.0</td>\n",
       "      <td>0</td>\n",
       "      <td>0</td>\n",
       "      <td>...</td>\n",
       "      <td>7</td>\n",
       "      <td>1050</td>\n",
       "      <td>910</td>\n",
       "      <td>1965</td>\n",
       "      <td>0</td>\n",
       "      <td>98136</td>\n",
       "      <td>47.5208</td>\n",
       "      <td>-122.393</td>\n",
       "      <td>1360</td>\n",
       "      <td>5000</td>\n",
       "    </tr>\n",
       "    <tr>\n",
       "      <th>4</th>\n",
       "      <td>1954400510</td>\n",
       "      <td>20150218T000000</td>\n",
       "      <td>510000.0</td>\n",
       "      <td>3</td>\n",
       "      <td>2.00</td>\n",
       "      <td>1680</td>\n",
       "      <td>8080</td>\n",
       "      <td>1.0</td>\n",
       "      <td>0</td>\n",
       "      <td>0</td>\n",
       "      <td>...</td>\n",
       "      <td>8</td>\n",
       "      <td>1680</td>\n",
       "      <td>0</td>\n",
       "      <td>1987</td>\n",
       "      <td>0</td>\n",
       "      <td>98074</td>\n",
       "      <td>47.6168</td>\n",
       "      <td>-122.045</td>\n",
       "      <td>1800</td>\n",
       "      <td>7503</td>\n",
       "    </tr>\n",
       "  </tbody>\n",
       "</table>\n",
       "<p>5 rows × 21 columns</p>\n",
       "</div>"
      ],
      "text/plain": [
       "           id             date     price  bedrooms  bathrooms  sqft_living  \\\n",
       "0  7129300520  20141013T000000  221900.0         3       1.00         1180   \n",
       "1  6414100192  20141209T000000  538000.0         3       2.25         2570   \n",
       "2  5631500400  20150225T000000  180000.0         2       1.00          770   \n",
       "3  2487200875  20141209T000000  604000.0         4       3.00         1960   \n",
       "4  1954400510  20150218T000000  510000.0         3       2.00         1680   \n",
       "\n",
       "   sqft_lot  floors  waterfront  view  ...  grade  sqft_above  sqft_basement  \\\n",
       "0      5650     1.0           0     0  ...      7        1180              0   \n",
       "1      7242     2.0           0     0  ...      7        2170            400   \n",
       "2     10000     1.0           0     0  ...      6         770              0   \n",
       "3      5000     1.0           0     0  ...      7        1050            910   \n",
       "4      8080     1.0           0     0  ...      8        1680              0   \n",
       "\n",
       "   yr_built  yr_renovated  zipcode      lat     long  sqft_living15  \\\n",
       "0      1955             0    98178  47.5112 -122.257           1340   \n",
       "1      1951          1991    98125  47.7210 -122.319           1690   \n",
       "2      1933             0    98028  47.7379 -122.233           2720   \n",
       "3      1965             0    98136  47.5208 -122.393           1360   \n",
       "4      1987             0    98074  47.6168 -122.045           1800   \n",
       "\n",
       "   sqft_lot15  \n",
       "0        5650  \n",
       "1        7639  \n",
       "2        8062  \n",
       "3        5000  \n",
       "4        7503  \n",
       "\n",
       "[5 rows x 21 columns]"
      ]
     },
     "execution_count": 3,
     "metadata": {},
     "output_type": "execute_result"
    }
   ],
   "source": [
    "# Import data\n",
    "data = pd.read_csv(\"kc_house_data.csv\")\n",
    "\n",
    "# Feature names\n",
    "print(data.columns)\n",
    "\n",
    "# Show first 5 examples\n",
    "data.head(5)"
   ]
  },
  {
   "cell_type": "markdown",
   "metadata": {},
   "source": [
    "# Linear Regression using single feature: Square feet living area"
   ]
  },
  {
   "cell_type": "code",
   "execution_count": 4,
   "metadata": {
    "scrolled": true
   },
   "outputs": [
    {
     "name": "stdout",
     "output_type": "stream",
     "text": [
      "\n",
      "Loss on training set: 261517.25076560437\n"
     ]
    },
    {
     "data": {
      "image/png": "[encoded data removed]",
      "text/plain": [
       "<Figure size 432x288 with 1 Axes>"
      ]
     },
     "metadata": {
      "needs_background": "light"
     },
     "output_type": "display_data"
    },
    {
     "name": "stdout",
     "output_type": "stream",
     "text": [
      "Loss on test set: 260770.47194803326\n",
      "R_squared error on test set: 0.4853394627571106\n",
      "Weights:: 258263.55; Bias:: 539663.0; \n"
     ]
    },
    {
     "data": {
      "image/png": "[encoded data removed]",
      "text/plain": [
       "<Figure size 432x288 with 1 Axes>"
      ]
     },
     "metadata": {
      "needs_background": "light"
     },
     "output_type": "display_data"
    }
   ],
   "source": [
    "# Preparing data\n",
    "x1 = torch.tensor(data['sqft_living'].values).float().view(-1,1) # square feet living area\n",
    "y1 = torch.tensor(data['price'].values).float().view(-1,1) # prices\n",
    "x_train1_not_normalized , x_test1_not_normalized , y_train1 , y_test1 = train_test_split(x1 , y1 , test_size = 0.10, random_state = 15)\n",
    "x_train1, mu1, std1 = normalize_data(x_train1_not_normalized) # Normalizing training data\n",
    "x_test1 = (x_test1_not_normalized- mu1)/std1 # Normalizing test data\n",
    "\n",
    "# Training model\n",
    "model1, loss1 = train_model(x_train1, y_train1, 10000, 10000)\n",
    "y_pred1 = model1(x_test1)\n",
    "\n",
    "# Results\n",
    "print('Loss on test set: '    +     str( evaluate_loss(y_pred1.data.numpy(), y_test1.data.numpy()) ) )\n",
    "print('R_squared error on test set: ' + str( r_squared(y_pred1.data.numpy(), y_test1.data.numpy()) ) )\n",
    "print_parameters(model1)\n",
    "plot_regression(mu1, std1, 0, 14000, model1, x_test1, y_test1)"
   ]
  },
  {
   "cell_type": "markdown",
   "metadata": {},
   "source": [
    "# Linear Regression using multiple features"
   ]
  },
  {
   "cell_type": "code",
   "execution_count": 5,
   "metadata": {},
   "outputs": [
    {
     "name": "stdout",
     "output_type": "stream",
     "text": [
      "5000 epoch: 540098.2106839459; 10000 epoch: 486322.1158697186; 15000 epoch: 441334.7748455814; 20000 epoch: 398620.77224349463; 25000 epoch: 357623.0779130452; 30000 epoch: 318941.8280251118; 35000 epoch: 283463.8102333347; 40000 epoch: 252450.1072291315; 45000 epoch: 227559.17074906034; 50000 epoch: 210628.64777612756; 55000 epoch: 202784.48224654666; \n",
      "Loss on training set: 201786.1033074379\n"
     ]
    },
    {
     "data": {
      "image/png": "[encoded data removed]",
      "text/plain": [
       "<Figure size 432x288 with 1 Axes>"
      ]
     },
     "metadata": {
      "needs_background": "light"
     },
     "output_type": "display_data"
    },
    {
     "name": "stdout",
     "output_type": "stream",
     "text": [
      "Loss on test set: 195777.71558581432\n",
      "R_squared error on test set: 0.7099114656448364\n",
      "Weights:: [-33682.062   33312.902   77346.24     5589.2256   3274.7249  48456.684\n",
      "  41412.555   17128.285  111498.04    82648.47    29019.266  -77391.734\n",
      "   8035.921  -31454.236   83795.055  -30621.064   13131.566  -10328.622 ]; Bias:: 537564.25; \n"
     ]
    }
   ],
   "source": [
    "# Preparing data (all features)\n",
    "x2 = torch.tensor(data.drop(['id','price','date'],axis=1).values).float()\n",
    "y2 = torch.tensor(data['price'].values).float().view(-1,1)\n",
    "x_train2_not_normalized , x_test2_not_normalized , y_train2 , y_test2 = train_test_split(x2 , y2 , test_size = 0.10, random_state = 15)\n",
    "x_train2, mu2, std2 = normalize_data(x_train2_not_normalized) # Normalizing training data\n",
    "x_test2 = (x_test2_not_normalized- mu2)/std2 # Normalizing test data\n",
    "\n",
    "# Training model\n",
    "model2, loss2 = train_model(x_train2, y_train2, no_epochs = 100000, learn_rate = 10)\n",
    "y_pred2 = model2(x_test2)\n",
    "\n",
    "print('Loss on test set: '    +     str( evaluate_loss(y_pred2.data.numpy(), y_test2.data.numpy()) ) )\n",
    "print('R_squared error on test set: ' + str( r_squared(y_pred2.data.numpy(), y_test2.data.numpy()) ) )\n",
    "print_parameters(model2)"
   ]
  },
  {
   "cell_type": "markdown",
   "metadata": {},
   "source": [
    "# Linear Regression using sklearn "
   ]
  },
  {
   "cell_type": "code",
   "execution_count": 6,
   "metadata": {},
   "outputs": [
    {
     "name": "stdout",
     "output_type": "stream",
     "text": [
      "Single feature Linear Regression:\n",
      " -R_squared error on test set: 0.4853441220958904\n",
      " -Weight: 258226.34\n",
      " -Bias: 539665.3\n",
      "\n",
      "Multiple features Linear Regression:\n",
      " -R_squared error on test set: 0.7099235735371086\n",
      " -Weights: [-33682.047   33313.227   82804.53     5589.2803   3274.7754  48456.797\n",
      "  41412.67    17128.219  111498.06    77728.39    26383.008  -77391.664\n",
      "   8035.968  -31454.762   83795.14   -30621.371   13131.598  -10328.544 ]\n",
      " -Bias: 539672.0\n"
     ]
    }
   ],
   "source": [
    "# Linear Regression using single feature: Square feet living area\n",
    "lin_reg_sklearn1 = LinearRegression()\n",
    "lin_reg_sklearn1.fit(x_train1,y_train1)\n",
    "\n",
    "print('Single feature Linear Regression:')\n",
    "print(' -R_squared error on test set: ' + str( lin_reg_sklearn1.score(x_test1,y_test1)) )\n",
    "print(' -Weight: ' + str( lin_reg_sklearn1.coef_.squeeze()) )\n",
    "print(' -Bias: ' + str( lin_reg_sklearn1.intercept_.squeeze()) )\n",
    "\n",
    "# Linear Regression using multiple features\n",
    "lin_reg_sklearn2 = LinearRegression()\n",
    "lin_reg_sklearn2.fit(x_train2,y_train2)\n",
    "\n",
    "print('\\nMultiple features Linear Regression:')\n",
    "print(' -R_squared error on test set: ' + str( lin_reg_sklearn2.score(x_test2,y_test2)) )\n",
    "print(' -Weights: ' + str( lin_reg_sklearn2.coef_.squeeze()) )\n",
    "print(' -Bias: ' + str( lin_reg_sklearn2.intercept_.squeeze()) )"
   ]
  },
  {
   "cell_type": "markdown",
   "metadata": {},
   "source": [
    "# Normal Equations"
   ]
  },
  {
   "cell_type": "code",
   "execution_count": 7,
   "metadata": {},
   "outputs": [],
   "source": [
    "def add_intercept_term(X):\n",
    "    return np.append( np.ones((X.shape[0],1)),X.data.numpy(),axis=1 )\n",
    "\n",
    "def normal_equations(X,Y):\n",
    "    X_i = add_intercept_term(X)\n",
    "    W = np.linalg.inv( X_i.T.dot(X_i) ).dot( X_i.T.dot(Y.data.numpy()))\n",
    "    return W\n",
    "\n",
    "def evaluate_normal_equations(W,X):\n",
    "    X_i = add_intercept_term(X)\n",
    "    return X_i.dot(W)"
   ]
  },
  {
   "cell_type": "code",
   "execution_count": 8,
   "metadata": {},
   "outputs": [
    {
     "name": "stdout",
     "output_type": "stream",
     "text": [
      "Single feature Linear Regression:\n",
      " -Loss on test set: 260769.29435737635\n",
      " -R_squared error on test set: 0.48534412136400806\n",
      " -Weights: 258226.2994686544\n",
      " -Bias: 539665.315829494\n",
      "\n",
      "Multiple features Linear Regression:\n",
      " -Loss on test set: 197009.23309587126\n",
      " -R_squared error on test set: 0.7062504600680063\n",
      " -Weights: [-3.18474694e+04  2.76591503e+04 -5.67074636e+11  4.96131516e+03\n",
      "  1.60119250e+03  4.73996546e+04  4.23932634e+04  1.80682692e+04\n",
      "  1.08421687e+05  5.11147262e+11  2.73876443e+11 -7.68374726e+04\n",
      "  8.37491614e+03 -3.13856699e+04  8.38821774e+04 -3.03867704e+04\n",
      "  1.57844208e+04 -1.05521956e+04]\n",
      " -Bias: 522815.685546875\n"
     ]
    }
   ],
   "source": [
    "# Linear Regression using single feature: Square feet living area\n",
    "W1 = normal_equations(x_train1,y_train1)\n",
    "y_pred_normal1 = evaluate_normal_equations(W1,x_test1)\n",
    "\n",
    "print('Single feature Linear Regression:')\n",
    "print(' -Loss on test set: '    +     str( evaluate_loss(y_pred_normal1, y_test1.data.numpy()) ) )\n",
    "print(' -R_squared error on test set: ' + str( r_squared(y_pred_normal1, y_test1.data.numpy()) ) )\n",
    "print(' -Weights: ' + str( W1[1:].squeeze()) )\n",
    "print(' -Bias: ' + str( W1[0].squeeze()) )\n",
    "\n",
    "# Linear Regression using multiple features\n",
    "W2 = normal_equations(x_train2,y_train2)\n",
    "y_pred_normal2 = evaluate_normal_equations(W2,x_test2)\n",
    "\n",
    "print('\\nMultiple features Linear Regression:')\n",
    "print(' -Loss on test set: '    +     str( evaluate_loss(y_pred_normal2, y_test2.data.numpy()) ) )\n",
    "print(' -R_squared error on test set: ' + str( r_squared(y_pred_normal2, y_test2.data.numpy()) ) )\n",
    "print(' -Weights: ' + str( W2[1:].squeeze()) )\n",
    "print(' -Bias: ' + str( W2[0].squeeze()) )"
   ]
  }
 ],
 "metadata": {
  "kernelspec": {
   "display_name": "Python 3",
   "language": "python",
   "name": "python3"
  },
  "language_info": {
   "codemirror_mode": {
    "name": "ipython",
    "version": 3
   },
   "file_extension": ".py",
   "mimetype": "text/x-python",
   "name": "python",
   "nbconvert_exporter": "python",
   "pygments_lexer": "ipython3",
   "version": "3.7.6"
  }
 },
 "nbformat": 4,
 "nbformat_minor": 4
}
